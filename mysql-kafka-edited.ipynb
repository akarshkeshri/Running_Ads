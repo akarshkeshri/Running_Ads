{
 "cells": [
  {
   "cell_type": "code",
   "execution_count": 1,
   "id": "f234ba18",
   "metadata": {},
   "outputs": [
    {
     "data": {
      "application/vnd.jupyter.widget-view+json": {
       "model_id": "d720f519957f4cc2874efb2813b6d76d",
       "version_major": 2,
       "version_minor": 0
      },
      "text/plain": [
       "VBox()"
      ]
     },
     "metadata": {},
     "output_type": "display_data"
    },
    {
     "name": "stdout",
     "output_type": "stream",
     "text": [
      "Starting Spark application\n"
     ]
    },
    {
     "data": {
      "text/html": [
       "<table>\n",
       "<tr><th>ID</th><th>YARN Application ID</th><th>Kind</th><th>State</th><th>Spark UI</th><th>Driver log</th><th>Current session?</th></tr><tr><td>5</td><td>application_1674390853434_0009</td><td>pyspark</td><td>idle</td><td><a target=\"_blank\" href=\"http://ip-10-0-11-45.ec2.internal:20888/proxy/application_1674390853434_0009/\">Link</a></td><td><a target=\"_blank\" href=\"http://ip-10-0-11-45.ec2.internal:8042/node/containerlogs/container_1674390853434_0009_01_000001/livy\">Link</a></td><td>✔</td></tr></table>"
      ],
      "text/plain": [
       "<IPython.core.display.HTML object>"
      ]
     },
     "metadata": {},
     "output_type": "display_data"
    },
    {
     "data": {
      "application/vnd.jupyter.widget-view+json": {
       "model_id": "",
       "version_major": 2,
       "version_minor": 0
      },
      "text/plain": [
       "FloatProgress(value=0.0, bar_style='info', description='Progress:', layout=Layout(height='25px', width='50%'),…"
      ]
     },
     "metadata": {},
     "output_type": "display_data"
    },
    {
     "name": "stdout",
     "output_type": "stream",
     "text": [
      "SparkSession available as 'spark'.\n"
     ]
    },
    {
     "data": {
      "application/vnd.jupyter.widget-view+json": {
       "model_id": "",
       "version_major": 2,
       "version_minor": 0
      },
      "text/plain": [
       "FloatProgress(value=0.0, bar_style='info', description='Progress:', layout=Layout(height='25px', width='50%'),…"
      ]
     },
     "metadata": {},
     "output_type": "display_data"
    }
   ],
   "source": [
    "# --running\n",
    "import os \n",
    "import sys \n",
    "os.environ[\"PYSPARK_PYTHON\"] = \"/opt/cloudera/parcels/Anaconda/bin/python\" \n",
    "os.environ[\"JAVA_HOME\"] = \"/usr/java/jdk1.8.0_232-cloudera/jre\" \n",
    "os.environ[\"SPARK_HOME\"]=\"/opt/cloudera/parcels/SPARK2-2.3.0.cloudera2- 1.cdh5.13.3.p0.316101/lib/spark2/\" \n",
    "os.environ[\"PYLIB\"] = os.environ[\"SPARK_HOME\"] + \"/python/lib\" \n",
    "sys.path.insert(0, os.environ[\"PYLIB\"] +\"/py4j-0.10.6-src.zip\") \n",
    "sys.path.insert(0, os.environ[\"PYLIB\"] +\"/pyspark.zip\") \n",
    "from pyspark.sql import SparkSession \n",
    "from pyspark.sql.functions import * \n",
    "from pyspark.sql.types import * "
   ]
  },
  {
   "cell_type": "code",
   "execution_count": 3,
   "id": "2bd589b5",
   "metadata": {},
   "outputs": [
    {
     "data": {
      "application/vnd.jupyter.widget-view+json": {
       "model_id": "5d62b2a469ba444583ca5e19b14c25b3",
       "version_major": 2,
       "version_minor": 0
      },
      "text/plain": [
       "VBox()"
      ]
     },
     "metadata": {},
     "output_type": "display_data"
    },
    {
     "data": {
      "application/vnd.jupyter.widget-view+json": {
       "model_id": "",
       "version_major": 2,
       "version_minor": 0
      },
      "text/plain": [
       "FloatProgress(value=0.0, bar_style='info', description='Progress:', layout=Layout(height='25px', width='50%'),…"
      ]
     },
     "metadata": {},
     "output_type": "display_data"
    }
   ],
   "source": [
    "# This code loads data from kafka queue and insert records in mysql \n",
    "# table\n",
    "# we are using pykafka and mysql connect to connect kafka and mysql\n",
    "\n",
    "import sys\n",
    "import mysql.connector\n",
    "from pykafka import KafkaClient\n",
    "from pykafka.common import OffsetType\n",
    "from pykafka.exceptions import SocketDisconnectedError, LeaderNotAvailable\n",
    "class KafkaMySQLSink:\n",
    "    def __init__(self, kafka_bootstrap_server, kafka_topic_name, database_host,database_username, database_password,database_name):\n",
    "    # Initialize Kafka Consumer\n",
    "        kafka_client = KafkaClient(kafka_bootstrap_server)\n",
    "        self.consumer = kafka_client.topics[kafka_topic_name].get_simple_consumer(consumer_group=\"groupid\",auto_offset_reset=OffsetType.LATEST)\n",
    "        print('#########################################################')\n",
    "        # Initialize MySQL database connection\n",
    "        self.db = mysql.connector.connect(host=database_host,user=database_username,password=database_password,database=database_name)\n",
    "        db_cursor = self.db.cursor()\n",
    "    def printing(self):\n",
    "        print('--executed this line--')\n",
    "    # Process single row\n",
    "    def process_row(self, msg):\n",
    "        # Get the db cursor\n",
    "        db_cursor = self.db.cursor()\n",
    "        # DB query for supporting UPSERT operation\n",
    "        text = msg['text']\n",
    "        category = msg['category']\n",
    "        keywords = msg['keywords']\n",
    "        campaign_id = msg['campaign_id']\n",
    "        action = msg['action']\n",
    "        target_gender = msg['target_gender']\n",
    "        target_age_start = msg['target_age_range']['start']\n",
    "        target_age_end = msg['target_age_range']['end']\n",
    "        target_city = msg['target_city']\n",
    "        target_state = msg['target_state']\n",
    "        target_country = msg['target_country']\n",
    "        target_income_bucket = msg['target_income_bucket']\n",
    "        target_device = msg['target_device']\n",
    "        cpc = msg['cpc']\n",
    "        cpa = msg['cpa']\n",
    "        budget = msg['budget']\n",
    "        date_range_start = msg['date_range']['start']\n",
    "        date_range_end = msg['date_range']['end']\n",
    "        time_range_start  = msg['time_range']['start']\n",
    "        time_range_end = msg['time_range']['end']\n",
    "        # DB query for supporting UPSERT operation\n",
    "\n",
    "\n",
    "        sql =  f\"CALL ads_procedure ( \\\n",
    "        '{text}', \\\n",
    "        '{category}', \\\n",
    "        '{keywords}', \\\n",
    "        '{campaign_id}', \\\n",
    "        '{action}', \\\n",
    "        '{target_gender}', \\\n",
    "        {target_age_start}, \\\n",
    "        {target_age_end}, \\\n",
    "        '{target_city}', \\\n",
    "        '{target_state}', \\\n",
    "        '{target_country}', \\\n",
    "        '{target_income_bucket}', \\\n",
    "        '{target_device}', \\\n",
    "        {cpc}, \\\n",
    "        {cpa}, \\\n",
    "        {budget}, \\\n",
    "        '{date_range_start}', \\\n",
    "        '{date_range_end}', \\\n",
    "        '{time_range_start}', \\\n",
    "        '{time_range_end}');\"\n",
    "        #val = (text, text)\n",
    "        self.db_cursor.execute(sql)\n",
    "        # Commit the operation, so that it reflects globally\n",
    "        self.db.commit()\n",
    "        \n",
    "    # Process kafka queue messages\n",
    "    def process_events(self):\n",
    "        try:\n",
    "            for queue_message in self.consumer:\n",
    "                if queue_message is not None:\n",
    "                    msg = queue_message.value\n",
    "                    print(type(msg))\n",
    "                    print(msg)\n",
    "                    #self.process_row(msg)\n",
    "                    # In case Kafka connection errors, restart consumer ans start processing\n",
    "        except (SocketDisconnectedError, LeaderNotAvailable) as e:\n",
    "            self.consumer.stop()\n",
    "            self.consumer.start()\n",
    "            self.process_events()\n",
    "        def __del__(self):\n",
    "        # Cleanup consumer and database connection before termination\n",
    "            self.consumer.stop()\n",
    "            self.db_cursor.close()\n",
    "            self.db.close()\n",
    "   \n",
    "if __name__ == \"__main__\":\n",
    "# Validate Command line arguments\n",
    "    if len(sys.argv) != 7:\n",
    "        print('all_arguments given')\n",
    "        print(\"Usage: kafka_mysql.py <kafka_bootstrap_server> <kafka_topic> <database_host> \"  \"<database_username> <database_password> <database_name\")\n",
    "        exit(-1)\n",
    "        kafka_bootstrap_server = sys.argv[1]\n",
    "        kafka_topic = sys.argv[2]\n",
    "        database_host = sys.argv[3]\n",
    "        database_username = sys.argv[4]\n",
    "        database_password = sys.argv[5]\n",
    "        database_name = sys.argv[6]\n",
    "        ad_manager = None\n",
    "        \"\"\"\n",
    "        kafka_bootstrap_server = '18.211.252.152:9092'\n",
    "        kafka_topic = 'de-capstone1'\n",
    "        database_host = 'localhost'\n",
    "        database_username = 'root'\n",
    "        database_password = 'root'\n",
    "        database_name = 'capstone'\n",
    "        ad_manager = None\n",
    "        \"\"\"\n",
    "        try:\n",
    "           \n",
    "            kafka_mysql_sink = KafkaMySQLSink('18.211.252.152:9092','de-capstone1','ec2-54-90-242-117.compute-1.amazonaws.com','root','123', 'capstone')\n",
    "            kafka_mysql_sink.printing()\n",
    "            kafka_mysql_sink.process_events()\n",
    "        except KeyboardInterrupt:\n",
    "            print('KeyboardInterrupt, exiting...')\n",
    "        finally:\n",
    "            if kafka_mysql_sink is not None:\n",
    "                del kafka_mysql_sink\n",
    "          \n",
    "\n"
   ]
  },
  {
   "cell_type": "code",
   "execution_count": null,
   "id": "31353e5f",
   "metadata": {},
   "outputs": [
    {
     "data": {
      "application/vnd.jupyter.widget-view+json": {
       "model_id": "95065145587f41fd919eea9ade52ccb0",
       "version_major": 2,
       "version_minor": 0
      },
      "text/plain": [
       "VBox()"
      ]
     },
     "metadata": {},
     "output_type": "display_data"
    },
    {
     "data": {
      "application/vnd.jupyter.widget-view+json": {
       "model_id": "dd8a35e6ffa84c2f827dc9c403214afd",
       "version_major": 2,
       "version_minor": 0
      },
      "text/plain": [
       "FloatProgress(value=0.0, bar_style='info', description='Progress:', layout=Layout(height='25px', width='50%'),…"
      ]
     },
     "metadata": {},
     "output_type": "display_data"
    }
   ],
   "source": [
    "kafka_mysql_sink = KafkaMySQLSink('18.211.252.152:9092','de-capstone1','ec2-54-90-242-117.compute-1.amazonaws.com','root','123', 'capstone')\n",
    "kafka_mysql_sink.printing()\n",
    "kafka_mysql_sink.process_events()\n",
    "if kafka_mysql_sink is not None:\n",
    "    del kafka_mysql_sink"
   ]
  },
  {
   "cell_type": "code",
   "execution_count": null,
   "id": "a0048c9d",
   "metadata": {},
   "outputs": [],
   "source": []
  }
 ],
 "metadata": {
  "kernelspec": {
   "display_name": "PySpark",
   "language": "",
   "name": "pysparkkernel"
  },
  "language_info": {
   "codemirror_mode": {
    "name": "python",
    "version": 2
   },
   "mimetype": "text/x-python",
   "name": "pyspark",
   "pygments_lexer": "python2"
  }
 },
 "nbformat": 4,
 "nbformat_minor": 5
}
